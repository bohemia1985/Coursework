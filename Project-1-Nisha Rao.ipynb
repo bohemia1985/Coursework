{
 "cells": [
  {
   "cell_type": "markdown",
   "metadata": {},
   "source": [
    "<img src=\"http://imgur.com/1ZcRyrc.png\" style=\"float: left; margin: 20px; height: 55px\">\n",
    "\n",
    "# Project 1: Python Coding Exercises\n",
    "\n",
    "_Authors: Joseph Nelson (DC) _\n",
    "\n",
    "---"
   ]
  },
  {
   "cell_type": "markdown",
   "metadata": {},
   "source": [
    "The following code challenges are drawn from common exercises used in technical interviews.\n",
    "\n",
    "Please note that there may be several ways to approach each challenge. If you get stuck, try mapping out your approach in pseudocode first. Finally, while solutions to problems like these may be found online, remember that if you copy/paste code that you can't explain, you'll be missing out on the point of the project. The only way to truly learn a new skill is through practice, trial, and error - we can only help you improve by understanding where you are having trouble."
   ]
  },
  {
   "cell_type": "markdown",
   "metadata": {},
   "source": [
    "### Challenge 1: Largest Palindrome\n",
    "A palindromic number reads the same both ways. For example, 1234321 is a palindrome. The largest palindrome made from the product of two two-digit numbers is 9009 = 91 × 99. Find the largest palindrome made from the product of two three-digit numbers. Afterward, write a brief explanation walking through your code's logic in markdown."
   ]
  },
  {
   "cell_type": "code",
   "execution_count": 5,
   "metadata": {
    "collapsed": false
   },
   "outputs": [
    {
     "name": "stdout",
     "output_type": "stream",
     "text": [
      "906609\n"
     ]
    }
   ],
   "source": [
    "def palindrome_validate(d):\n",
    "    return str(d) == str(d)[::-1]\n",
    "palindrome =[]\n",
    "for i in range(100,999):\n",
    "    for j in range(100,999):\n",
    "        palin = i*j\n",
    "        if palindrome_validate(palin):\n",
    "            palindrome.append(palin)\n",
    "print(max(palindrome))\n",
    "\n",
    "\n",
    "#I first created a function to validate if the string is a palindrome by checking if the string version of the number and it reversed are the same. If thats the case, then the number is a palindrome.\n",
    "#To generate the different versions numbers and select the highest possible combination, i created two loops, one outer and the other inner, passed the combination to the palindrome_validate function to validate if it is a palindrome and store in the series called \"palindrome\". Finally, I returned the highest possible value of the palindrome.\n",
    "\n",
    "    "
   ]
  },
  {
   "cell_type": "markdown",
   "metadata": {},
   "source": [
    "\n",
    "### Challenge 2: Summation of Primes\n",
    "The sum of the primes below 10 is 2 + 3 + 5 + 7 = 17. Find the sum of all the primes below 2,000. Afterward, write a brief explanation walking through your code's logic in markdown."
   ]
  },
  {
   "cell_type": "code",
   "execution_count": 4,
   "metadata": {
    "collapsed": false
   },
   "outputs": [
    {
     "name": "stdout",
     "output_type": "stream",
     "text": [
      "1998999\n"
     ]
    }
   ],
   "source": [
    "\n",
    "\n",
    "\n",
    "\n",
    "totalsum = [] \n",
    "#define an empty list\n",
    "\n",
    "#show an outer loop for the range of 2 to 1999\n",
    "for i in range(2, 2000):\n",
    "    if (i % n != 0 for n in totalsum): # inner loop checks if each number is prime \n",
    "        totalsum.append(i)\n",
    "            \n",
    "a = sum(totalsum) \n",
    "\n",
    "print(a)\n",
    "\n"
   ]
  },
  {
   "cell_type": "markdown",
   "metadata": {},
   "source": [
    "### Challenge 3: Multiples of 3 and 5\n",
    "If we list all of the natural numbers below 10 that are multiples of 3 or 5, we get 3, 5, 6, and 9. The sum of these multiples is 23. Find the sum of all the multiples of 3 and 5 below 1,000. Afterward, write a brief explanation walking through your code's logic in markdown."
   ]
  },
  {
   "cell_type": "code",
   "execution_count": 8,
   "metadata": {
    "collapsed": false
   },
   "outputs": [
    {
     "data": {
      "text/plain": [
       "233168"
      ]
     },
     "execution_count": 8,
     "metadata": {},
     "output_type": "execute_result"
    }
   ],
   "source": [
    "multiple =[] # define an empty list\n",
    "for i in range(1,1000): # outer loop generates numbers in the range needed.\n",
    "    if (i%3 ==0 or i%5 ==0): # inner loop checks if the number is a multiple of 3 OR 5\n",
    "        multiple.append(i)\n",
    "sum(multiple)\n"
   ]
  },
  {
   "cell_type": "markdown",
   "metadata": {},
   "source": [
    "### Challenge 4: String Compressor\n",
    "Implement a method to perform basic string compression using the counts of repeated characters. (This is called run-length encoding.) For example, the string \"aabcccccaaa\" would become a2b1c5a3. If the “compressed” string would not become smaller than the original string, your method should return the original string. You can assume the string has only uppercase and lowercase letters (a–z). Specify whether your solution is case sensitive or case insensitive and what you would need to change to make it the other. Afterward, write a brief explanation walking through your code's logic in markdown."
   ]
  },
  {
   "cell_type": "code",
   "execution_count": 40,
   "metadata": {
    "collapsed": false
   },
   "outputs": [
    {
     "data": {
      "text/plain": [
       "'a2bc6a3'"
      ]
     },
     "execution_count": 40,
     "metadata": {},
     "output_type": "execute_result"
    }
   ],
   "source": [
    "#Google had a major part to play in this resolution :(\n",
    "def stringcompresor (word):\n",
    "    FinalString=''\n",
    "    InitialString=''\n",
    "    count = 0\n",
    "    for i in word: # iterate through each letter and count the characters \n",
    "        count+=1\n",
    "        if InitialString.count(i)>0: # if there are repeating characters store in a\n",
    "            InitialString+=i\n",
    "        else:\n",
    "            if len(InitialString)>1: # length of the repeats is greater than 1 and less than 100\n",
    "                if len(InitialString)<100:\n",
    "                    FinalString+= InitialString[0][:1]+str(len(InitialString)) # Select the first character and the count of repeating characters\n",
    "                else:\n",
    "                    FinalString+= InitialString[0][:1]+str(len(InitialString))\n",
    "                InitialString=i\n",
    "            else:\n",
    "                FinalString+=InitialString\n",
    "                InitialString=i\n",
    "        if count == len(word):\n",
    "            if len(InitialString)>1:\n",
    "                if len(InitialString)<100:\n",
    "                    FinalString+= InitialString[0][:1]+str(len(InitialString))\n",
    "                else:\n",
    "                    FinalString+= InitialString[0][:1]+str(len(InitialString)) \n",
    "            else:\n",
    "                FinalString+=InitialString\n",
    "    return(FinalString)\n",
    "\n",
    "stringcompresor ('aabccccccaaa')"
   ]
  },
  {
   "cell_type": "markdown",
   "metadata": {},
   "source": [
    "### *BONUS* Challenge: FizzBuzz\n",
    "Write a program that prints all of the numbers from 1 to 100. For multiples of 3, instead of the number, print \"Fizz;\" for multiples of 5, print \"Buzz.\" For numbers that are multiples of both 3 and 5, print \"FizzBuzz.\" Afterward, write a brief explanation walking through your code's logic in markdown."
   ]
  },
  {
   "cell_type": "code",
   "execution_count": null,
   "metadata": {
    "collapsed": true
   },
   "outputs": [],
   "source": []
  }
 ],
 "metadata": {
  "anaconda-cloud": {},
  "kernelspec": {
   "display_name": "Python 3",
   "language": "python",
   "name": "python3"
  },
  "language_info": {
   "codemirror_mode": {
    "name": "ipython",
    "version": 3
   },
   "file_extension": ".py",
   "mimetype": "text/x-python",
   "name": "python",
   "nbconvert_exporter": "python",
   "pygments_lexer": "ipython3",
   "version": "3.5.1"
  }
 },
 "nbformat": 4,
 "nbformat_minor": 2
}
